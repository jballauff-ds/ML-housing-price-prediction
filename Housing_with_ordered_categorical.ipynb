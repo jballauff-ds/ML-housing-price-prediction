{
  "nbformat": 4,
  "nbformat_minor": 0,
  "metadata": {
    "colab": {
      "provenance": [],
      "mount_file_id": "1IRc_ge53caiEKRaFWsqEj1mwdbYxt5p5",
      "authorship_tag": "ABX9TyMVu2S1JRBG0UXEyK1vI7kh",
      "include_colab_link": true
    },
    "kernelspec": {
      "name": "python3",
      "display_name": "Python 3"
    },
    "language_info": {
      "name": "python"
    }
  },
  "cells": [
    {
      "cell_type": "markdown",
      "metadata": {
        "id": "view-in-github",
        "colab_type": "text"
      },
      "source": [
        "<a href=\"https://colab.research.google.com/github/jballauff-ds/ML-housing-price-prediction/blob/main/Housing_with_ordered_categorical.ipynb\" target=\"_parent\"><img src=\"https://colab.research.google.com/assets/colab-badge.svg\" alt=\"Open In Colab\"/></a>"
      ]
    },
    {
      "cell_type": "markdown",
      "source": [
        "# Housing Price Classification\n",
        "## iteration 2: Ordered Categorical Data"
      ],
      "metadata": {
        "id": "ooXlMcMR-3JL"
      }
    },
    {
      "cell_type": "code",
      "source": [
        "import pandas as pd\n",
        "import matplotlib.pyplot as plt\n",
        "import numpy as np\n",
        "from sklearn.tree import plot_tree\n",
        "from sklearn.model_selection import train_test_split\n",
        "from sklearn.metrics import accuracy_score\n",
        "from sklearn.tree import DecisionTreeClassifier\n",
        "from sklearn.impute import SimpleImputer\n",
        "from sklearn.tree import plot_tree\n",
        "from sklearn.model_selection import RandomizedSearchCV, GridSearchCV\n",
        "from sklearn.pipeline import make_pipeline\n",
        "from sklearn.preprocessing import StandardScaler, OneHotEncoder, OrdinalEncoder\n",
        "from sklearn.compose import ColumnTransformer"
      ],
      "metadata": {
        "id": "B1BCrrFM0I6M"
      },
      "execution_count": 21,
      "outputs": []
    },
    {
      "cell_type": "code",
      "execution_count": 10,
      "metadata": {
        "id": "chy8QFkuz2E_"
      },
      "outputs": [],
      "source": [
        "url = \"https://raw.githubusercontent.com/jballauff-ds/ML-housing-price-prediction/main/data/data_housing_02.csv\"\n",
        "df  = pd.read_csv(url)"
      ]
    },
    {
      "cell_type": "markdown",
      "source": [
        "# Data preparation"
      ],
      "metadata": {
        "id": "mnOfOExU_2_k"
      }
    },
    {
      "cell_type": "code",
      "source": [
        "df.head()"
      ],
      "metadata": {
        "colab": {
          "base_uri": "https://localhost:8080/",
          "height": 235
        },
        "id": "lzpdm2_V0NjS",
        "outputId": "ff2d814f-8e44-4f2a-e46e-0a440b3667a2"
      },
      "execution_count": 11,
      "outputs": [
        {
          "output_type": "execute_result",
          "data": {
            "text/plain": [
              "   LotArea  LotFrontage  TotalBsmtSF  BedroomAbvGr  Fireplaces  PoolArea  \\\n",
              "0     8450         65.0          856             3           0         0   \n",
              "1     9600         80.0         1262             3           1         0   \n",
              "2    11250         68.0          920             3           1         0   \n",
              "3     9550         60.0          756             3           1         0   \n",
              "4    14260         84.0         1145             4           1         0   \n",
              "\n",
              "   GarageCars  WoodDeckSF  ScreenPorch  Expensive  ... CentralAir Foundation  \\\n",
              "0           2           0            0          0  ...          Y      PConc   \n",
              "1           2         298            0          0  ...          Y     CBlock   \n",
              "2           2           0            0          0  ...          Y      PConc   \n",
              "3           3           0            0          0  ...          Y     BrkTil   \n",
              "4           3         192            0          0  ...          Y      PConc   \n",
              "\n",
              "  ExterQual ExterCond BsmtQual BsmtCond BsmtExposure BsmtFinType1 KitchenQual  \\\n",
              "0        Gd        TA       Gd       TA           No          GLQ          Gd   \n",
              "1        TA        TA       Gd       TA           Gd          ALQ          TA   \n",
              "2        Gd        TA       Gd       TA           Mn          GLQ          Gd   \n",
              "3        TA        TA       TA       Gd           No          ALQ          Gd   \n",
              "4        Gd        TA       Gd       TA           Av          GLQ          Gd   \n",
              "\n",
              "  FireplaceQu  \n",
              "0         NaN  \n",
              "1          TA  \n",
              "2          TA  \n",
              "3          Gd  \n",
              "4          TA  \n",
              "\n",
              "[5 rows x 24 columns]"
            ],
            "text/html": [
              "\n",
              "  <div id=\"df-246268b0-17ff-44b8-8e07-772b59f6ff38\" class=\"colab-df-container\">\n",
              "    <div>\n",
              "<style scoped>\n",
              "    .dataframe tbody tr th:only-of-type {\n",
              "        vertical-align: middle;\n",
              "    }\n",
              "\n",
              "    .dataframe tbody tr th {\n",
              "        vertical-align: top;\n",
              "    }\n",
              "\n",
              "    .dataframe thead th {\n",
              "        text-align: right;\n",
              "    }\n",
              "</style>\n",
              "<table border=\"1\" class=\"dataframe\">\n",
              "  <thead>\n",
              "    <tr style=\"text-align: right;\">\n",
              "      <th></th>\n",
              "      <th>LotArea</th>\n",
              "      <th>LotFrontage</th>\n",
              "      <th>TotalBsmtSF</th>\n",
              "      <th>BedroomAbvGr</th>\n",
              "      <th>Fireplaces</th>\n",
              "      <th>PoolArea</th>\n",
              "      <th>GarageCars</th>\n",
              "      <th>WoodDeckSF</th>\n",
              "      <th>ScreenPorch</th>\n",
              "      <th>Expensive</th>\n",
              "      <th>...</th>\n",
              "      <th>CentralAir</th>\n",
              "      <th>Foundation</th>\n",
              "      <th>ExterQual</th>\n",
              "      <th>ExterCond</th>\n",
              "      <th>BsmtQual</th>\n",
              "      <th>BsmtCond</th>\n",
              "      <th>BsmtExposure</th>\n",
              "      <th>BsmtFinType1</th>\n",
              "      <th>KitchenQual</th>\n",
              "      <th>FireplaceQu</th>\n",
              "    </tr>\n",
              "  </thead>\n",
              "  <tbody>\n",
              "    <tr>\n",
              "      <th>0</th>\n",
              "      <td>8450</td>\n",
              "      <td>65.0</td>\n",
              "      <td>856</td>\n",
              "      <td>3</td>\n",
              "      <td>0</td>\n",
              "      <td>0</td>\n",
              "      <td>2</td>\n",
              "      <td>0</td>\n",
              "      <td>0</td>\n",
              "      <td>0</td>\n",
              "      <td>...</td>\n",
              "      <td>Y</td>\n",
              "      <td>PConc</td>\n",
              "      <td>Gd</td>\n",
              "      <td>TA</td>\n",
              "      <td>Gd</td>\n",
              "      <td>TA</td>\n",
              "      <td>No</td>\n",
              "      <td>GLQ</td>\n",
              "      <td>Gd</td>\n",
              "      <td>NaN</td>\n",
              "    </tr>\n",
              "    <tr>\n",
              "      <th>1</th>\n",
              "      <td>9600</td>\n",
              "      <td>80.0</td>\n",
              "      <td>1262</td>\n",
              "      <td>3</td>\n",
              "      <td>1</td>\n",
              "      <td>0</td>\n",
              "      <td>2</td>\n",
              "      <td>298</td>\n",
              "      <td>0</td>\n",
              "      <td>0</td>\n",
              "      <td>...</td>\n",
              "      <td>Y</td>\n",
              "      <td>CBlock</td>\n",
              "      <td>TA</td>\n",
              "      <td>TA</td>\n",
              "      <td>Gd</td>\n",
              "      <td>TA</td>\n",
              "      <td>Gd</td>\n",
              "      <td>ALQ</td>\n",
              "      <td>TA</td>\n",
              "      <td>TA</td>\n",
              "    </tr>\n",
              "    <tr>\n",
              "      <th>2</th>\n",
              "      <td>11250</td>\n",
              "      <td>68.0</td>\n",
              "      <td>920</td>\n",
              "      <td>3</td>\n",
              "      <td>1</td>\n",
              "      <td>0</td>\n",
              "      <td>2</td>\n",
              "      <td>0</td>\n",
              "      <td>0</td>\n",
              "      <td>0</td>\n",
              "      <td>...</td>\n",
              "      <td>Y</td>\n",
              "      <td>PConc</td>\n",
              "      <td>Gd</td>\n",
              "      <td>TA</td>\n",
              "      <td>Gd</td>\n",
              "      <td>TA</td>\n",
              "      <td>Mn</td>\n",
              "      <td>GLQ</td>\n",
              "      <td>Gd</td>\n",
              "      <td>TA</td>\n",
              "    </tr>\n",
              "    <tr>\n",
              "      <th>3</th>\n",
              "      <td>9550</td>\n",
              "      <td>60.0</td>\n",
              "      <td>756</td>\n",
              "      <td>3</td>\n",
              "      <td>1</td>\n",
              "      <td>0</td>\n",
              "      <td>3</td>\n",
              "      <td>0</td>\n",
              "      <td>0</td>\n",
              "      <td>0</td>\n",
              "      <td>...</td>\n",
              "      <td>Y</td>\n",
              "      <td>BrkTil</td>\n",
              "      <td>TA</td>\n",
              "      <td>TA</td>\n",
              "      <td>TA</td>\n",
              "      <td>Gd</td>\n",
              "      <td>No</td>\n",
              "      <td>ALQ</td>\n",
              "      <td>Gd</td>\n",
              "      <td>Gd</td>\n",
              "    </tr>\n",
              "    <tr>\n",
              "      <th>4</th>\n",
              "      <td>14260</td>\n",
              "      <td>84.0</td>\n",
              "      <td>1145</td>\n",
              "      <td>4</td>\n",
              "      <td>1</td>\n",
              "      <td>0</td>\n",
              "      <td>3</td>\n",
              "      <td>192</td>\n",
              "      <td>0</td>\n",
              "      <td>0</td>\n",
              "      <td>...</td>\n",
              "      <td>Y</td>\n",
              "      <td>PConc</td>\n",
              "      <td>Gd</td>\n",
              "      <td>TA</td>\n",
              "      <td>Gd</td>\n",
              "      <td>TA</td>\n",
              "      <td>Av</td>\n",
              "      <td>GLQ</td>\n",
              "      <td>Gd</td>\n",
              "      <td>TA</td>\n",
              "    </tr>\n",
              "  </tbody>\n",
              "</table>\n",
              "<p>5 rows × 24 columns</p>\n",
              "</div>\n",
              "    <div class=\"colab-df-buttons\">\n",
              "\n",
              "  <div class=\"colab-df-container\">\n",
              "    <button class=\"colab-df-convert\" onclick=\"convertToInteractive('df-246268b0-17ff-44b8-8e07-772b59f6ff38')\"\n",
              "            title=\"Convert this dataframe to an interactive table.\"\n",
              "            style=\"display:none;\">\n",
              "\n",
              "  <svg xmlns=\"http://www.w3.org/2000/svg\" height=\"24px\" viewBox=\"0 -960 960 960\">\n",
              "    <path d=\"M120-120v-720h720v720H120Zm60-500h600v-160H180v160Zm220 220h160v-160H400v160Zm0 220h160v-160H400v160ZM180-400h160v-160H180v160Zm440 0h160v-160H620v160ZM180-180h160v-160H180v160Zm440 0h160v-160H620v160Z\"/>\n",
              "  </svg>\n",
              "    </button>\n",
              "\n",
              "  <style>\n",
              "    .colab-df-container {\n",
              "      display:flex;\n",
              "      gap: 12px;\n",
              "    }\n",
              "\n",
              "    .colab-df-convert {\n",
              "      background-color: #E8F0FE;\n",
              "      border: none;\n",
              "      border-radius: 50%;\n",
              "      cursor: pointer;\n",
              "      display: none;\n",
              "      fill: #1967D2;\n",
              "      height: 32px;\n",
              "      padding: 0 0 0 0;\n",
              "      width: 32px;\n",
              "    }\n",
              "\n",
              "    .colab-df-convert:hover {\n",
              "      background-color: #E2EBFA;\n",
              "      box-shadow: 0px 1px 2px rgba(60, 64, 67, 0.3), 0px 1px 3px 1px rgba(60, 64, 67, 0.15);\n",
              "      fill: #174EA6;\n",
              "    }\n",
              "\n",
              "    .colab-df-buttons div {\n",
              "      margin-bottom: 4px;\n",
              "    }\n",
              "\n",
              "    [theme=dark] .colab-df-convert {\n",
              "      background-color: #3B4455;\n",
              "      fill: #D2E3FC;\n",
              "    }\n",
              "\n",
              "    [theme=dark] .colab-df-convert:hover {\n",
              "      background-color: #434B5C;\n",
              "      box-shadow: 0px 1px 3px 1px rgba(0, 0, 0, 0.15);\n",
              "      filter: drop-shadow(0px 1px 2px rgba(0, 0, 0, 0.3));\n",
              "      fill: #FFFFFF;\n",
              "    }\n",
              "  </style>\n",
              "\n",
              "    <script>\n",
              "      const buttonEl =\n",
              "        document.querySelector('#df-246268b0-17ff-44b8-8e07-772b59f6ff38 button.colab-df-convert');\n",
              "      buttonEl.style.display =\n",
              "        google.colab.kernel.accessAllowed ? 'block' : 'none';\n",
              "\n",
              "      async function convertToInteractive(key) {\n",
              "        const element = document.querySelector('#df-246268b0-17ff-44b8-8e07-772b59f6ff38');\n",
              "        const dataTable =\n",
              "          await google.colab.kernel.invokeFunction('convertToInteractive',\n",
              "                                                    [key], {});\n",
              "        if (!dataTable) return;\n",
              "\n",
              "        const docLinkHtml = 'Like what you see? Visit the ' +\n",
              "          '<a target=\"_blank\" href=https://colab.research.google.com/notebooks/data_table.ipynb>data table notebook</a>'\n",
              "          + ' to learn more about interactive tables.';\n",
              "        element.innerHTML = '';\n",
              "        dataTable['output_type'] = 'display_data';\n",
              "        await google.colab.output.renderOutput(dataTable, element);\n",
              "        const docLink = document.createElement('div');\n",
              "        docLink.innerHTML = docLinkHtml;\n",
              "        element.appendChild(docLink);\n",
              "      }\n",
              "    </script>\n",
              "  </div>\n",
              "\n",
              "\n",
              "<div id=\"df-5f5cb5fe-7a05-456a-9f96-fd8b79bcd20b\">\n",
              "  <button class=\"colab-df-quickchart\" onclick=\"quickchart('df-5f5cb5fe-7a05-456a-9f96-fd8b79bcd20b')\"\n",
              "            title=\"Suggest charts\"\n",
              "            style=\"display:none;\">\n",
              "\n",
              "<svg xmlns=\"http://www.w3.org/2000/svg\" height=\"24px\"viewBox=\"0 0 24 24\"\n",
              "     width=\"24px\">\n",
              "    <g>\n",
              "        <path d=\"M19 3H5c-1.1 0-2 .9-2 2v14c0 1.1.9 2 2 2h14c1.1 0 2-.9 2-2V5c0-1.1-.9-2-2-2zM9 17H7v-7h2v7zm4 0h-2V7h2v10zm4 0h-2v-4h2v4z\"/>\n",
              "    </g>\n",
              "</svg>\n",
              "  </button>\n",
              "\n",
              "<style>\n",
              "  .colab-df-quickchart {\n",
              "      --bg-color: #E8F0FE;\n",
              "      --fill-color: #1967D2;\n",
              "      --hover-bg-color: #E2EBFA;\n",
              "      --hover-fill-color: #174EA6;\n",
              "      --disabled-fill-color: #AAA;\n",
              "      --disabled-bg-color: #DDD;\n",
              "  }\n",
              "\n",
              "  [theme=dark] .colab-df-quickchart {\n",
              "      --bg-color: #3B4455;\n",
              "      --fill-color: #D2E3FC;\n",
              "      --hover-bg-color: #434B5C;\n",
              "      --hover-fill-color: #FFFFFF;\n",
              "      --disabled-bg-color: #3B4455;\n",
              "      --disabled-fill-color: #666;\n",
              "  }\n",
              "\n",
              "  .colab-df-quickchart {\n",
              "    background-color: var(--bg-color);\n",
              "    border: none;\n",
              "    border-radius: 50%;\n",
              "    cursor: pointer;\n",
              "    display: none;\n",
              "    fill: var(--fill-color);\n",
              "    height: 32px;\n",
              "    padding: 0;\n",
              "    width: 32px;\n",
              "  }\n",
              "\n",
              "  .colab-df-quickchart:hover {\n",
              "    background-color: var(--hover-bg-color);\n",
              "    box-shadow: 0 1px 2px rgba(60, 64, 67, 0.3), 0 1px 3px 1px rgba(60, 64, 67, 0.15);\n",
              "    fill: var(--button-hover-fill-color);\n",
              "  }\n",
              "\n",
              "  .colab-df-quickchart-complete:disabled,\n",
              "  .colab-df-quickchart-complete:disabled:hover {\n",
              "    background-color: var(--disabled-bg-color);\n",
              "    fill: var(--disabled-fill-color);\n",
              "    box-shadow: none;\n",
              "  }\n",
              "\n",
              "  .colab-df-spinner {\n",
              "    border: 2px solid var(--fill-color);\n",
              "    border-color: transparent;\n",
              "    border-bottom-color: var(--fill-color);\n",
              "    animation:\n",
              "      spin 1s steps(1) infinite;\n",
              "  }\n",
              "\n",
              "  @keyframes spin {\n",
              "    0% {\n",
              "      border-color: transparent;\n",
              "      border-bottom-color: var(--fill-color);\n",
              "      border-left-color: var(--fill-color);\n",
              "    }\n",
              "    20% {\n",
              "      border-color: transparent;\n",
              "      border-left-color: var(--fill-color);\n",
              "      border-top-color: var(--fill-color);\n",
              "    }\n",
              "    30% {\n",
              "      border-color: transparent;\n",
              "      border-left-color: var(--fill-color);\n",
              "      border-top-color: var(--fill-color);\n",
              "      border-right-color: var(--fill-color);\n",
              "    }\n",
              "    40% {\n",
              "      border-color: transparent;\n",
              "      border-right-color: var(--fill-color);\n",
              "      border-top-color: var(--fill-color);\n",
              "    }\n",
              "    60% {\n",
              "      border-color: transparent;\n",
              "      border-right-color: var(--fill-color);\n",
              "    }\n",
              "    80% {\n",
              "      border-color: transparent;\n",
              "      border-right-color: var(--fill-color);\n",
              "      border-bottom-color: var(--fill-color);\n",
              "    }\n",
              "    90% {\n",
              "      border-color: transparent;\n",
              "      border-bottom-color: var(--fill-color);\n",
              "    }\n",
              "  }\n",
              "</style>\n",
              "\n",
              "  <script>\n",
              "    async function quickchart(key) {\n",
              "      const quickchartButtonEl =\n",
              "        document.querySelector('#' + key + ' button');\n",
              "      quickchartButtonEl.disabled = true;  // To prevent multiple clicks.\n",
              "      quickchartButtonEl.classList.add('colab-df-spinner');\n",
              "      try {\n",
              "        const charts = await google.colab.kernel.invokeFunction(\n",
              "            'suggestCharts', [key], {});\n",
              "      } catch (error) {\n",
              "        console.error('Error during call to suggestCharts:', error);\n",
              "      }\n",
              "      quickchartButtonEl.classList.remove('colab-df-spinner');\n",
              "      quickchartButtonEl.classList.add('colab-df-quickchart-complete');\n",
              "    }\n",
              "    (() => {\n",
              "      let quickchartButtonEl =\n",
              "        document.querySelector('#df-5f5cb5fe-7a05-456a-9f96-fd8b79bcd20b button');\n",
              "      quickchartButtonEl.style.display =\n",
              "        google.colab.kernel.accessAllowed ? 'block' : 'none';\n",
              "    })();\n",
              "  </script>\n",
              "</div>\n",
              "    </div>\n",
              "  </div>\n"
            ],
            "application/vnd.google.colaboratory.intrinsic+json": {
              "type": "dataframe",
              "variable_name": "df"
            }
          },
          "metadata": {},
          "execution_count": 11
        }
      ]
    },
    {
      "cell_type": "code",
      "source": [
        "df.info()"
      ],
      "metadata": {
        "colab": {
          "base_uri": "https://localhost:8080/"
        },
        "id": "FdNTJwIpSsZW",
        "outputId": "d514ebbf-191c-4344-9b77-ea9e87d89011"
      },
      "execution_count": 12,
      "outputs": [
        {
          "output_type": "stream",
          "name": "stdout",
          "text": [
            "<class 'pandas.core.frame.DataFrame'>\n",
            "RangeIndex: 1460 entries, 0 to 1459\n",
            "Data columns (total 24 columns):\n",
            " #   Column        Non-Null Count  Dtype  \n",
            "---  ------        --------------  -----  \n",
            " 0   LotArea       1460 non-null   int64  \n",
            " 1   LotFrontage   1201 non-null   float64\n",
            " 2   TotalBsmtSF   1460 non-null   int64  \n",
            " 3   BedroomAbvGr  1460 non-null   int64  \n",
            " 4   Fireplaces    1460 non-null   int64  \n",
            " 5   PoolArea      1460 non-null   int64  \n",
            " 6   GarageCars    1460 non-null   int64  \n",
            " 7   WoodDeckSF    1460 non-null   int64  \n",
            " 8   ScreenPorch   1460 non-null   int64  \n",
            " 9   Expensive     1460 non-null   int64  \n",
            " 10  MSZoning      1460 non-null   object \n",
            " 11  Condition1    1460 non-null   object \n",
            " 12  Heating       1460 non-null   object \n",
            " 13  Street        1460 non-null   object \n",
            " 14  CentralAir    1460 non-null   object \n",
            " 15  Foundation    1460 non-null   object \n",
            " 16  ExterQual     1460 non-null   object \n",
            " 17  ExterCond     1460 non-null   object \n",
            " 18  BsmtQual      1423 non-null   object \n",
            " 19  BsmtCond      1423 non-null   object \n",
            " 20  BsmtExposure  1422 non-null   object \n",
            " 21  BsmtFinType1  1423 non-null   object \n",
            " 22  KitchenQual   1460 non-null   object \n",
            " 23  FireplaceQu   770 non-null    object \n",
            "dtypes: float64(1), int64(9), object(14)\n",
            "memory usage: 273.9+ KB\n"
          ]
        }
      ]
    },
    {
      "cell_type": "code",
      "source": [
        "df.isna().sum()"
      ],
      "metadata": {
        "colab": {
          "base_uri": "https://localhost:8080/"
        },
        "id": "FjnKPvVxSE5o",
        "outputId": "384bae7c-7366-48e0-ca22-bdde221675e6"
      },
      "execution_count": 13,
      "outputs": [
        {
          "output_type": "execute_result",
          "data": {
            "text/plain": [
              "LotArea           0\n",
              "LotFrontage     259\n",
              "TotalBsmtSF       0\n",
              "BedroomAbvGr      0\n",
              "Fireplaces        0\n",
              "PoolArea          0\n",
              "GarageCars        0\n",
              "WoodDeckSF        0\n",
              "ScreenPorch       0\n",
              "Expensive         0\n",
              "MSZoning          0\n",
              "Condition1        0\n",
              "Heating           0\n",
              "Street            0\n",
              "CentralAir        0\n",
              "Foundation        0\n",
              "ExterQual         0\n",
              "ExterCond         0\n",
              "BsmtQual         37\n",
              "BsmtCond         37\n",
              "BsmtExposure     38\n",
              "BsmtFinType1     37\n",
              "KitchenQual       0\n",
              "FireplaceQu     690\n",
              "dtype: int64"
            ]
          },
          "metadata": {},
          "execution_count": 13
        }
      ]
    },
    {
      "cell_type": "code",
      "source": [
        "numerical = list(df.select_dtypes(exclude = \"object\"))\n",
        "numerical = [i for i in numerical if i != \"Expensive\"]\n",
        "categorical = list(df.select_dtypes(include = \"object\"))"
      ],
      "metadata": {
        "id": "jmGjQLQsSaa-"
      },
      "execution_count": 15,
      "outputs": []
    },
    {
      "cell_type": "code",
      "source": [
        "for i in categorical:\n",
        "  print(df[i].value_counts())"
      ],
      "metadata": {
        "colab": {
          "base_uri": "https://localhost:8080/"
        },
        "id": "6SmgElWQTlmo",
        "outputId": "472c24bf-693e-4ca6-988d-e3042779d381"
      },
      "execution_count": 16,
      "outputs": [
        {
          "output_type": "stream",
          "name": "stdout",
          "text": [
            "MSZoning\n",
            "RL         1151\n",
            "RM          218\n",
            "FV           65\n",
            "RH           16\n",
            "C (all)      10\n",
            "Name: count, dtype: int64\n",
            "Condition1\n",
            "Norm      1260\n",
            "Feedr       81\n",
            "Artery      48\n",
            "RRAn        26\n",
            "PosN        19\n",
            "RRAe        11\n",
            "PosA         8\n",
            "RRNn         5\n",
            "RRNe         2\n",
            "Name: count, dtype: int64\n",
            "Heating\n",
            "GasA     1428\n",
            "GasW       18\n",
            "Grav        7\n",
            "Wall        4\n",
            "OthW        2\n",
            "Floor       1\n",
            "Name: count, dtype: int64\n",
            "Street\n",
            "Pave    1454\n",
            "Grvl       6\n",
            "Name: count, dtype: int64\n",
            "CentralAir\n",
            "Y    1365\n",
            "N      95\n",
            "Name: count, dtype: int64\n",
            "Foundation\n",
            "PConc     647\n",
            "CBlock    634\n",
            "BrkTil    146\n",
            "Slab       24\n",
            "Stone       6\n",
            "Wood        3\n",
            "Name: count, dtype: int64\n",
            "ExterQual\n",
            "TA    906\n",
            "Gd    488\n",
            "Ex     52\n",
            "Fa     14\n",
            "Name: count, dtype: int64\n",
            "ExterCond\n",
            "TA    1282\n",
            "Gd     146\n",
            "Fa      28\n",
            "Ex       3\n",
            "Po       1\n",
            "Name: count, dtype: int64\n",
            "BsmtQual\n",
            "TA    649\n",
            "Gd    618\n",
            "Ex    121\n",
            "Fa     35\n",
            "Name: count, dtype: int64\n",
            "BsmtCond\n",
            "TA    1311\n",
            "Gd      65\n",
            "Fa      45\n",
            "Po       2\n",
            "Name: count, dtype: int64\n",
            "BsmtExposure\n",
            "No    953\n",
            "Av    221\n",
            "Gd    134\n",
            "Mn    114\n",
            "Name: count, dtype: int64\n",
            "BsmtFinType1\n",
            "Unf    430\n",
            "GLQ    418\n",
            "ALQ    220\n",
            "BLQ    148\n",
            "Rec    133\n",
            "LwQ     74\n",
            "Name: count, dtype: int64\n",
            "KitchenQual\n",
            "TA    735\n",
            "Gd    586\n",
            "Ex    100\n",
            "Fa     39\n",
            "Name: count, dtype: int64\n",
            "FireplaceQu\n",
            "Gd    380\n",
            "TA    313\n",
            "Fa     33\n",
            "Ex     24\n",
            "Po     20\n",
            "Name: count, dtype: int64\n"
          ]
        }
      ]
    },
    {
      "cell_type": "markdown",
      "source": [
        "## Feature Engeneering: Omitting of very rare features\n",
        " + Drop Street as it has very low variation\n",
        " + Simplify Heating -> Grav|Wall|OthW|Floor to Other\n",
        " + Simplify Foundation -> Slab/Stone/Wood to Other\n",
        " + Simplify Conddition1 -> proximity to any railroad (RR), any positive feature (Pos)"
      ],
      "metadata": {
        "id": "S1WfibI3_xzb"
      }
    },
    {
      "cell_type": "code",
      "source": [
        "df_modified = df.drop(columns = \"Street\").copy()\n",
        "df_modified.loc[df_modified[\"Condition1\"].str.contains(\"Pos\"), \"Condition1\"] = \"Pos\"\n",
        "df_modified.loc[df_modified[\"Condition1\"].str.contains(\"RR\"), \"Condition1\"] = \"RR\"\n",
        "df_modified.loc[df_modified[\"Heating\"].str.contains(\"Grav|Wall|OthW|Floor\"), \"Heating\"]  = \"Othr\"\n",
        "df_modified.loc[df_modified[\"Foundation\"].str.contains(\"Slab|Wood|Stone\"), \"Foundation\"]  = \"Othr\"\n",
        "\n",
        "categorical=[i for i in categorical if i != \"Street\"]\n"
      ],
      "metadata": {
        "id": "GrGp0DsOvHVT"
      },
      "execution_count": 17,
      "outputs": []
    },
    {
      "cell_type": "markdown",
      "source": [
        "## Feature Engeneering: Order categories"
      ],
      "metadata": {
        "id": "ipmP_FMrAXy4"
      }
    },
    {
      "cell_type": "code",
      "source": [
        "categorical_ordered = [\"ExterQual\",\"ExterCond\",\"BsmtQual\",\"BsmtCond\",\"BsmtExposure\",\"BsmtFinType1\",\"KitchenQual\", \"FireplaceQu\"]\n",
        "categorical_unordered = [i for i in categorical if i not in categorical_ordered ]"
      ],
      "metadata": {
        "id": "hR0n4BDzGZPF"
      },
      "execution_count": 18,
      "outputs": []
    },
    {
      "cell_type": "code",
      "source": [
        "for i in categorical_ordered:\n",
        "  print(df_modified[i].value_counts())"
      ],
      "metadata": {
        "colab": {
          "base_uri": "https://localhost:8080/"
        },
        "id": "X63_rwwEz1VC",
        "outputId": "7223fe15-b709-42cf-a207-38a87a362609"
      },
      "execution_count": 19,
      "outputs": [
        {
          "output_type": "stream",
          "name": "stdout",
          "text": [
            "ExterQual\n",
            "TA    906\n",
            "Gd    488\n",
            "Ex     52\n",
            "Fa     14\n",
            "Name: count, dtype: int64\n",
            "ExterCond\n",
            "TA    1282\n",
            "Gd     146\n",
            "Fa      28\n",
            "Ex       3\n",
            "Po       1\n",
            "Name: count, dtype: int64\n",
            "BsmtQual\n",
            "TA    649\n",
            "Gd    618\n",
            "Ex    121\n",
            "Fa     35\n",
            "Name: count, dtype: int64\n",
            "BsmtCond\n",
            "TA    1311\n",
            "Gd      65\n",
            "Fa      45\n",
            "Po       2\n",
            "Name: count, dtype: int64\n",
            "BsmtExposure\n",
            "No    953\n",
            "Av    221\n",
            "Gd    134\n",
            "Mn    114\n",
            "Name: count, dtype: int64\n",
            "BsmtFinType1\n",
            "Unf    430\n",
            "GLQ    418\n",
            "ALQ    220\n",
            "BLQ    148\n",
            "Rec    133\n",
            "LwQ     74\n",
            "Name: count, dtype: int64\n",
            "KitchenQual\n",
            "TA    735\n",
            "Gd    586\n",
            "Ex    100\n",
            "Fa     39\n",
            "Name: count, dtype: int64\n",
            "FireplaceQu\n",
            "Gd    380\n",
            "TA    313\n",
            "Fa     33\n",
            "Ex     24\n",
            "Po     20\n",
            "Name: count, dtype: int64\n"
          ]
        }
      ]
    },
    {
      "cell_type": "code",
      "source": [
        "order = {\n",
        "    'ExterQual': ['Po', 'Fa', 'TA', 'Gd', 'Ex', np.nan],\n",
        "    'ExterCond': ['Po', 'Fa', 'TA', 'Gd', 'Ex', np.nan],\n",
        "    'BsmtQual': ['Po', 'Fa', 'TA', 'Gd', 'Ex', np.nan],\n",
        "    'BsmtCond': ['Po', 'Fa', 'TA', 'Gd', 'Ex', np.nan],\n",
        "    'BsmtExposure': ['No', 'Mn', 'Av', 'Gd', np.nan],\n",
        "    'BsmtFinType1': ['Unf', 'LwQ', 'Rec', 'BLQ', 'ALQ', 'GLQ', np.nan],\n",
        "    'KitchenQual': ['Po', 'Fa', 'TA', 'Gd', 'Ex', np.nan],\n",
        "    'FireplaceQu': ['Po', 'Fa', 'TA', 'Gd', 'Ex', np.nan],\n",
        "}\n",
        "custom_order = [order[feature] for feature in order]\n",
        "ord_encoder = OrdinalEncoder(categories=custom_order, encoded_missing_value=-1)"
      ],
      "metadata": {
        "id": "2zGqykHnIZAN"
      },
      "execution_count": 29,
      "outputs": []
    },
    {
      "cell_type": "markdown",
      "source": [
        "# Decision Tree Classifier"
      ],
      "metadata": {
        "id": "pfrqXMeyypV5"
      }
    },
    {
      "cell_type": "code",
      "source": [
        "X = df_modified.copy()\n",
        "y = X.pop(\"Expensive\")"
      ],
      "metadata": {
        "id": "hDESV_w20TC3"
      },
      "execution_count": 36,
      "outputs": []
    },
    {
      "cell_type": "code",
      "source": [
        "X_train, X_test, y_train, y_test = train_test_split(X, y, test_size=0.2, random_state=42)"
      ],
      "metadata": {
        "id": "U9oELkfK3uLk"
      },
      "execution_count": 37,
      "outputs": []
    },
    {
      "cell_type": "code",
      "source": [
        "import numpy as np\n",
        "num_imputer = SimpleImputer()\n",
        "unoredered_encoder = OneHotEncoder(drop=\"first\", sparse_output=False)\n",
        "ordered_encoder = OrdinalEncoder(categories=custom_order, encoded_missing_value=-1)\n",
        "scaler = StandardScaler()\n",
        "dtree = DecisionTreeClassifier()\n",
        "\n",
        "num_branch = make_pipeline(num_imputer)\n",
        "cat_unord_branch = make_pipeline(unoredered_encoder)\n",
        "cat_ord_branch = make_pipeline(ordered_encoder)\n",
        "\n",
        "preprocessor = ColumnTransformer(\n",
        "    transformers=[\n",
        "        (\"num_branch\", num_branch, numerical),\n",
        "        (\"cat_branch_unord\", cat_unord_branch, categorical_unordered),\n",
        "        (\"cat_branch_ord\", cat_ord_branch, categorical_ordered)\n",
        "    ]\n",
        ")\n",
        "\n",
        "pipeDT = make_pipeline(preprocessor,scaler,dtree).set_output(transform='pandas')"
      ],
      "metadata": {
        "id": "sHufm2D9fCoz"
      },
      "execution_count": 38,
      "outputs": []
    },
    {
      "cell_type": "code",
      "source": [
        "pipeDT.fit(X_train, y_train)"
      ],
      "metadata": {
        "colab": {
          "base_uri": "https://localhost:8080/",
          "height": 223
        },
        "id": "qeKvme02f_3n",
        "outputId": "ed347da2-15af-4b5a-e0a0-8fcc5fa257ea"
      },
      "execution_count": 39,
      "outputs": [
        {
          "output_type": "execute_result",
          "data": {
            "text/plain": [
              "Pipeline(steps=[('columntransformer',\n",
              "                 ColumnTransformer(transformers=[('num_branch',\n",
              "                                                  Pipeline(steps=[('simpleimputer',\n",
              "                                                                   SimpleImputer())]),\n",
              "                                                  ['LotArea', 'LotFrontage',\n",
              "                                                   'TotalBsmtSF',\n",
              "                                                   'BedroomAbvGr', 'Fireplaces',\n",
              "                                                   'PoolArea', 'GarageCars',\n",
              "                                                   'WoodDeckSF',\n",
              "                                                   'ScreenPorch']),\n",
              "                                                 ('cat_branch_unord',\n",
              "                                                  Pipeline(steps=[('onehotencoder',\n",
              "                                                                   OneHotEncoder(drop='first',\n",
              "                                                                                 sparse_output=F...\n",
              "                                                                                               'Mn',\n",
              "                                                                                               'Av',\n",
              "                                                                                               'Gd',\n",
              "                                                                                               nan],\n",
              "                                                                                              ['Unf',\n",
              "                                                                                               'LwQ',\n",
              "                                                                                               'Rec',\n",
              "                                                                                               'BLQ',\n",
              "                                                                                               'ALQ',\n",
              "                                                                                               'GLQ',\n",
              "                                                                                               nan],\n",
              "                                                                                              ['Po',\n",
              "                                                                                               'Fa',\n",
              "                                                                                               'TA',\n",
              "                                                                                               'Gd',\n",
              "                                                                                               'Ex',\n",
              "                                                                                               nan],\n",
              "                                                                                              ['Po',\n",
              "                                                                                               'Fa',\n",
              "                                                                                               'TA',\n",
              "                                                                                               'Gd',\n",
              "                                                                                               'Ex',\n",
              "                                                                                               nan]],\n",
              "                                                                                  encoded_missing_value=-1))]),\n",
              "                                                  ['ExterQual', 'ExterCond',\n",
              "                                                   'BsmtQual', 'BsmtCond',\n",
              "                                                   'BsmtExposure',\n",
              "                                                   'BsmtFinType1',\n",
              "                                                   'KitchenQual',\n",
              "                                                   'FireplaceQu'])])),\n",
              "                ('standardscaler', StandardScaler()),\n",
              "                ('decisiontreeclassifier', DecisionTreeClassifier())])"
            ],
            "text/html": [
              "<style>#sk-container-id-2 {color: black;background-color: white;}#sk-container-id-2 pre{padding: 0;}#sk-container-id-2 div.sk-toggleable {background-color: white;}#sk-container-id-2 label.sk-toggleable__label {cursor: pointer;display: block;width: 100%;margin-bottom: 0;padding: 0.3em;box-sizing: border-box;text-align: center;}#sk-container-id-2 label.sk-toggleable__label-arrow:before {content: \"▸\";float: left;margin-right: 0.25em;color: #696969;}#sk-container-id-2 label.sk-toggleable__label-arrow:hover:before {color: black;}#sk-container-id-2 div.sk-estimator:hover label.sk-toggleable__label-arrow:before {color: black;}#sk-container-id-2 div.sk-toggleable__content {max-height: 0;max-width: 0;overflow: hidden;text-align: left;background-color: #f0f8ff;}#sk-container-id-2 div.sk-toggleable__content pre {margin: 0.2em;color: black;border-radius: 0.25em;background-color: #f0f8ff;}#sk-container-id-2 input.sk-toggleable__control:checked~div.sk-toggleable__content {max-height: 200px;max-width: 100%;overflow: auto;}#sk-container-id-2 input.sk-toggleable__control:checked~label.sk-toggleable__label-arrow:before {content: \"▾\";}#sk-container-id-2 div.sk-estimator input.sk-toggleable__control:checked~label.sk-toggleable__label {background-color: #d4ebff;}#sk-container-id-2 div.sk-label input.sk-toggleable__control:checked~label.sk-toggleable__label {background-color: #d4ebff;}#sk-container-id-2 input.sk-hidden--visually {border: 0;clip: rect(1px 1px 1px 1px);clip: rect(1px, 1px, 1px, 1px);height: 1px;margin: -1px;overflow: hidden;padding: 0;position: absolute;width: 1px;}#sk-container-id-2 div.sk-estimator {font-family: monospace;background-color: #f0f8ff;border: 1px dotted black;border-radius: 0.25em;box-sizing: border-box;margin-bottom: 0.5em;}#sk-container-id-2 div.sk-estimator:hover {background-color: #d4ebff;}#sk-container-id-2 div.sk-parallel-item::after {content: \"\";width: 100%;border-bottom: 1px solid gray;flex-grow: 1;}#sk-container-id-2 div.sk-label:hover label.sk-toggleable__label {background-color: #d4ebff;}#sk-container-id-2 div.sk-serial::before {content: \"\";position: absolute;border-left: 1px solid gray;box-sizing: border-box;top: 0;bottom: 0;left: 50%;z-index: 0;}#sk-container-id-2 div.sk-serial {display: flex;flex-direction: column;align-items: center;background-color: white;padding-right: 0.2em;padding-left: 0.2em;position: relative;}#sk-container-id-2 div.sk-item {position: relative;z-index: 1;}#sk-container-id-2 div.sk-parallel {display: flex;align-items: stretch;justify-content: center;background-color: white;position: relative;}#sk-container-id-2 div.sk-item::before, #sk-container-id-2 div.sk-parallel-item::before {content: \"\";position: absolute;border-left: 1px solid gray;box-sizing: border-box;top: 0;bottom: 0;left: 50%;z-index: -1;}#sk-container-id-2 div.sk-parallel-item {display: flex;flex-direction: column;z-index: 1;position: relative;background-color: white;}#sk-container-id-2 div.sk-parallel-item:first-child::after {align-self: flex-end;width: 50%;}#sk-container-id-2 div.sk-parallel-item:last-child::after {align-self: flex-start;width: 50%;}#sk-container-id-2 div.sk-parallel-item:only-child::after {width: 0;}#sk-container-id-2 div.sk-dashed-wrapped {border: 1px dashed gray;margin: 0 0.4em 0.5em 0.4em;box-sizing: border-box;padding-bottom: 0.4em;background-color: white;}#sk-container-id-2 div.sk-label label {font-family: monospace;font-weight: bold;display: inline-block;line-height: 1.2em;}#sk-container-id-2 div.sk-label-container {text-align: center;}#sk-container-id-2 div.sk-container {/* jupyter's `normalize.less` sets `[hidden] { display: none; }` but bootstrap.min.css set `[hidden] { display: none !important; }` so we also need the `!important` here to be able to override the default hidden behavior on the sphinx rendered scikit-learn.org. See: https://github.com/scikit-learn/scikit-learn/issues/21755 */display: inline-block !important;position: relative;}#sk-container-id-2 div.sk-text-repr-fallback {display: none;}</style><div id=\"sk-container-id-2\" class=\"sk-top-container\"><div class=\"sk-text-repr-fallback\"><pre>Pipeline(steps=[(&#x27;columntransformer&#x27;,\n",
              "                 ColumnTransformer(transformers=[(&#x27;num_branch&#x27;,\n",
              "                                                  Pipeline(steps=[(&#x27;simpleimputer&#x27;,\n",
              "                                                                   SimpleImputer())]),\n",
              "                                                  [&#x27;LotArea&#x27;, &#x27;LotFrontage&#x27;,\n",
              "                                                   &#x27;TotalBsmtSF&#x27;,\n",
              "                                                   &#x27;BedroomAbvGr&#x27;, &#x27;Fireplaces&#x27;,\n",
              "                                                   &#x27;PoolArea&#x27;, &#x27;GarageCars&#x27;,\n",
              "                                                   &#x27;WoodDeckSF&#x27;,\n",
              "                                                   &#x27;ScreenPorch&#x27;]),\n",
              "                                                 (&#x27;cat_branch_unord&#x27;,\n",
              "                                                  Pipeline(steps=[(&#x27;onehotencoder&#x27;,\n",
              "                                                                   OneHotEncoder(drop=&#x27;first&#x27;,\n",
              "                                                                                 sparse_output=F...\n",
              "                                                                                               &#x27;Mn&#x27;,\n",
              "                                                                                               &#x27;Av&#x27;,\n",
              "                                                                                               &#x27;Gd&#x27;,\n",
              "                                                                                               nan],\n",
              "                                                                                              [&#x27;Unf&#x27;,\n",
              "                                                                                               &#x27;LwQ&#x27;,\n",
              "                                                                                               &#x27;Rec&#x27;,\n",
              "                                                                                               &#x27;BLQ&#x27;,\n",
              "                                                                                               &#x27;ALQ&#x27;,\n",
              "                                                                                               &#x27;GLQ&#x27;,\n",
              "                                                                                               nan],\n",
              "                                                                                              [&#x27;Po&#x27;,\n",
              "                                                                                               &#x27;Fa&#x27;,\n",
              "                                                                                               &#x27;TA&#x27;,\n",
              "                                                                                               &#x27;Gd&#x27;,\n",
              "                                                                                               &#x27;Ex&#x27;,\n",
              "                                                                                               nan],\n",
              "                                                                                              [&#x27;Po&#x27;,\n",
              "                                                                                               &#x27;Fa&#x27;,\n",
              "                                                                                               &#x27;TA&#x27;,\n",
              "                                                                                               &#x27;Gd&#x27;,\n",
              "                                                                                               &#x27;Ex&#x27;,\n",
              "                                                                                               nan]],\n",
              "                                                                                  encoded_missing_value=-1))]),\n",
              "                                                  [&#x27;ExterQual&#x27;, &#x27;ExterCond&#x27;,\n",
              "                                                   &#x27;BsmtQual&#x27;, &#x27;BsmtCond&#x27;,\n",
              "                                                   &#x27;BsmtExposure&#x27;,\n",
              "                                                   &#x27;BsmtFinType1&#x27;,\n",
              "                                                   &#x27;KitchenQual&#x27;,\n",
              "                                                   &#x27;FireplaceQu&#x27;])])),\n",
              "                (&#x27;standardscaler&#x27;, StandardScaler()),\n",
              "                (&#x27;decisiontreeclassifier&#x27;, DecisionTreeClassifier())])</pre><b>In a Jupyter environment, please rerun this cell to show the HTML representation or trust the notebook. <br />On GitHub, the HTML representation is unable to render, please try loading this page with nbviewer.org.</b></div><div class=\"sk-container\" hidden><div class=\"sk-item sk-dashed-wrapped\"><div class=\"sk-label-container\"><div class=\"sk-label sk-toggleable\"><input class=\"sk-toggleable__control sk-hidden--visually\" id=\"sk-estimator-id-11\" type=\"checkbox\" ><label for=\"sk-estimator-id-11\" class=\"sk-toggleable__label sk-toggleable__label-arrow\">Pipeline</label><div class=\"sk-toggleable__content\"><pre>Pipeline(steps=[(&#x27;columntransformer&#x27;,\n",
              "                 ColumnTransformer(transformers=[(&#x27;num_branch&#x27;,\n",
              "                                                  Pipeline(steps=[(&#x27;simpleimputer&#x27;,\n",
              "                                                                   SimpleImputer())]),\n",
              "                                                  [&#x27;LotArea&#x27;, &#x27;LotFrontage&#x27;,\n",
              "                                                   &#x27;TotalBsmtSF&#x27;,\n",
              "                                                   &#x27;BedroomAbvGr&#x27;, &#x27;Fireplaces&#x27;,\n",
              "                                                   &#x27;PoolArea&#x27;, &#x27;GarageCars&#x27;,\n",
              "                                                   &#x27;WoodDeckSF&#x27;,\n",
              "                                                   &#x27;ScreenPorch&#x27;]),\n",
              "                                                 (&#x27;cat_branch_unord&#x27;,\n",
              "                                                  Pipeline(steps=[(&#x27;onehotencoder&#x27;,\n",
              "                                                                   OneHotEncoder(drop=&#x27;first&#x27;,\n",
              "                                                                                 sparse_output=F...\n",
              "                                                                                               &#x27;Mn&#x27;,\n",
              "                                                                                               &#x27;Av&#x27;,\n",
              "                                                                                               &#x27;Gd&#x27;,\n",
              "                                                                                               nan],\n",
              "                                                                                              [&#x27;Unf&#x27;,\n",
              "                                                                                               &#x27;LwQ&#x27;,\n",
              "                                                                                               &#x27;Rec&#x27;,\n",
              "                                                                                               &#x27;BLQ&#x27;,\n",
              "                                                                                               &#x27;ALQ&#x27;,\n",
              "                                                                                               &#x27;GLQ&#x27;,\n",
              "                                                                                               nan],\n",
              "                                                                                              [&#x27;Po&#x27;,\n",
              "                                                                                               &#x27;Fa&#x27;,\n",
              "                                                                                               &#x27;TA&#x27;,\n",
              "                                                                                               &#x27;Gd&#x27;,\n",
              "                                                                                               &#x27;Ex&#x27;,\n",
              "                                                                                               nan],\n",
              "                                                                                              [&#x27;Po&#x27;,\n",
              "                                                                                               &#x27;Fa&#x27;,\n",
              "                                                                                               &#x27;TA&#x27;,\n",
              "                                                                                               &#x27;Gd&#x27;,\n",
              "                                                                                               &#x27;Ex&#x27;,\n",
              "                                                                                               nan]],\n",
              "                                                                                  encoded_missing_value=-1))]),\n",
              "                                                  [&#x27;ExterQual&#x27;, &#x27;ExterCond&#x27;,\n",
              "                                                   &#x27;BsmtQual&#x27;, &#x27;BsmtCond&#x27;,\n",
              "                                                   &#x27;BsmtExposure&#x27;,\n",
              "                                                   &#x27;BsmtFinType1&#x27;,\n",
              "                                                   &#x27;KitchenQual&#x27;,\n",
              "                                                   &#x27;FireplaceQu&#x27;])])),\n",
              "                (&#x27;standardscaler&#x27;, StandardScaler()),\n",
              "                (&#x27;decisiontreeclassifier&#x27;, DecisionTreeClassifier())])</pre></div></div></div><div class=\"sk-serial\"><div class=\"sk-item sk-dashed-wrapped\"><div class=\"sk-label-container\"><div class=\"sk-label sk-toggleable\"><input class=\"sk-toggleable__control sk-hidden--visually\" id=\"sk-estimator-id-12\" type=\"checkbox\" ><label for=\"sk-estimator-id-12\" class=\"sk-toggleable__label sk-toggleable__label-arrow\">columntransformer: ColumnTransformer</label><div class=\"sk-toggleable__content\"><pre>ColumnTransformer(transformers=[(&#x27;num_branch&#x27;,\n",
              "                                 Pipeline(steps=[(&#x27;simpleimputer&#x27;,\n",
              "                                                  SimpleImputer())]),\n",
              "                                 [&#x27;LotArea&#x27;, &#x27;LotFrontage&#x27;, &#x27;TotalBsmtSF&#x27;,\n",
              "                                  &#x27;BedroomAbvGr&#x27;, &#x27;Fireplaces&#x27;, &#x27;PoolArea&#x27;,\n",
              "                                  &#x27;GarageCars&#x27;, &#x27;WoodDeckSF&#x27;, &#x27;ScreenPorch&#x27;]),\n",
              "                                (&#x27;cat_branch_unord&#x27;,\n",
              "                                 Pipeline(steps=[(&#x27;onehotencoder&#x27;,\n",
              "                                                  OneHotEncoder(drop=&#x27;first&#x27;,\n",
              "                                                                sparse_output=False))]),\n",
              "                                 [&#x27;MSZoning&#x27;, &#x27;Condition1&#x27;, &#x27;He...\n",
              "                                                                              &#x27;TA&#x27;,\n",
              "                                                                              &#x27;Gd&#x27;,\n",
              "                                                                              &#x27;Ex&#x27;,\n",
              "                                                                              nan],\n",
              "                                                                             [&#x27;Po&#x27;,\n",
              "                                                                              &#x27;Fa&#x27;,\n",
              "                                                                              &#x27;TA&#x27;,\n",
              "                                                                              &#x27;Gd&#x27;,\n",
              "                                                                              &#x27;Ex&#x27;,\n",
              "                                                                              nan],\n",
              "                                                                             [&#x27;Po&#x27;,\n",
              "                                                                              &#x27;Fa&#x27;,\n",
              "                                                                              &#x27;TA&#x27;,\n",
              "                                                                              &#x27;Gd&#x27;,\n",
              "                                                                              &#x27;Ex&#x27;,\n",
              "                                                                              nan],\n",
              "                                                                             [&#x27;No&#x27;,\n",
              "                                                                              &#x27;Mn&#x27;,\n",
              "                                                                              &#x27;Av&#x27;,\n",
              "                                                                              &#x27;Gd&#x27;,\n",
              "                                                                              nan],\n",
              "                                                                             [&#x27;Unf&#x27;,\n",
              "                                                                              &#x27;LwQ&#x27;,\n",
              "                                                                              &#x27;Rec&#x27;,\n",
              "                                                                              &#x27;BLQ&#x27;,\n",
              "                                                                              &#x27;ALQ&#x27;,\n",
              "                                                                              &#x27;GLQ&#x27;,\n",
              "                                                                              nan],\n",
              "                                                                             [&#x27;Po&#x27;,\n",
              "                                                                              &#x27;Fa&#x27;,\n",
              "                                                                              &#x27;TA&#x27;,\n",
              "                                                                              &#x27;Gd&#x27;,\n",
              "                                                                              &#x27;Ex&#x27;,\n",
              "                                                                              nan],\n",
              "                                                                             [&#x27;Po&#x27;,\n",
              "                                                                              &#x27;Fa&#x27;,\n",
              "                                                                              &#x27;TA&#x27;,\n",
              "                                                                              &#x27;Gd&#x27;,\n",
              "                                                                              &#x27;Ex&#x27;,\n",
              "                                                                              nan]],\n",
              "                                                                 encoded_missing_value=-1))]),\n",
              "                                 [&#x27;ExterQual&#x27;, &#x27;ExterCond&#x27;, &#x27;BsmtQual&#x27;,\n",
              "                                  &#x27;BsmtCond&#x27;, &#x27;BsmtExposure&#x27;, &#x27;BsmtFinType1&#x27;,\n",
              "                                  &#x27;KitchenQual&#x27;, &#x27;FireplaceQu&#x27;])])</pre></div></div></div><div class=\"sk-parallel\"><div class=\"sk-parallel-item\"><div class=\"sk-item\"><div class=\"sk-label-container\"><div class=\"sk-label sk-toggleable\"><input class=\"sk-toggleable__control sk-hidden--visually\" id=\"sk-estimator-id-13\" type=\"checkbox\" ><label for=\"sk-estimator-id-13\" class=\"sk-toggleable__label sk-toggleable__label-arrow\">num_branch</label><div class=\"sk-toggleable__content\"><pre>[&#x27;LotArea&#x27;, &#x27;LotFrontage&#x27;, &#x27;TotalBsmtSF&#x27;, &#x27;BedroomAbvGr&#x27;, &#x27;Fireplaces&#x27;, &#x27;PoolArea&#x27;, &#x27;GarageCars&#x27;, &#x27;WoodDeckSF&#x27;, &#x27;ScreenPorch&#x27;]</pre></div></div></div><div class=\"sk-serial\"><div class=\"sk-item\"><div class=\"sk-serial\"><div class=\"sk-item\"><div class=\"sk-estimator sk-toggleable\"><input class=\"sk-toggleable__control sk-hidden--visually\" id=\"sk-estimator-id-14\" type=\"checkbox\" ><label for=\"sk-estimator-id-14\" class=\"sk-toggleable__label sk-toggleable__label-arrow\">SimpleImputer</label><div class=\"sk-toggleable__content\"><pre>SimpleImputer()</pre></div></div></div></div></div></div></div></div><div class=\"sk-parallel-item\"><div class=\"sk-item\"><div class=\"sk-label-container\"><div class=\"sk-label sk-toggleable\"><input class=\"sk-toggleable__control sk-hidden--visually\" id=\"sk-estimator-id-15\" type=\"checkbox\" ><label for=\"sk-estimator-id-15\" class=\"sk-toggleable__label sk-toggleable__label-arrow\">cat_branch_unord</label><div class=\"sk-toggleable__content\"><pre>[&#x27;MSZoning&#x27;, &#x27;Condition1&#x27;, &#x27;Heating&#x27;, &#x27;CentralAir&#x27;, &#x27;Foundation&#x27;]</pre></div></div></div><div class=\"sk-serial\"><div class=\"sk-item\"><div class=\"sk-serial\"><div class=\"sk-item\"><div class=\"sk-estimator sk-toggleable\"><input class=\"sk-toggleable__control sk-hidden--visually\" id=\"sk-estimator-id-16\" type=\"checkbox\" ><label for=\"sk-estimator-id-16\" class=\"sk-toggleable__label sk-toggleable__label-arrow\">OneHotEncoder</label><div class=\"sk-toggleable__content\"><pre>OneHotEncoder(drop=&#x27;first&#x27;, sparse_output=False)</pre></div></div></div></div></div></div></div></div><div class=\"sk-parallel-item\"><div class=\"sk-item\"><div class=\"sk-label-container\"><div class=\"sk-label sk-toggleable\"><input class=\"sk-toggleable__control sk-hidden--visually\" id=\"sk-estimator-id-17\" type=\"checkbox\" ><label for=\"sk-estimator-id-17\" class=\"sk-toggleable__label sk-toggleable__label-arrow\">cat_branch_ord</label><div class=\"sk-toggleable__content\"><pre>[&#x27;ExterQual&#x27;, &#x27;ExterCond&#x27;, &#x27;BsmtQual&#x27;, &#x27;BsmtCond&#x27;, &#x27;BsmtExposure&#x27;, &#x27;BsmtFinType1&#x27;, &#x27;KitchenQual&#x27;, &#x27;FireplaceQu&#x27;]</pre></div></div></div><div class=\"sk-serial\"><div class=\"sk-item\"><div class=\"sk-serial\"><div class=\"sk-item\"><div class=\"sk-estimator sk-toggleable\"><input class=\"sk-toggleable__control sk-hidden--visually\" id=\"sk-estimator-id-18\" type=\"checkbox\" ><label for=\"sk-estimator-id-18\" class=\"sk-toggleable__label sk-toggleable__label-arrow\">OrdinalEncoder</label><div class=\"sk-toggleable__content\"><pre>OrdinalEncoder(categories=[[&#x27;Po&#x27;, &#x27;Fa&#x27;, &#x27;TA&#x27;, &#x27;Gd&#x27;, &#x27;Ex&#x27;, nan],\n",
              "                           [&#x27;Po&#x27;, &#x27;Fa&#x27;, &#x27;TA&#x27;, &#x27;Gd&#x27;, &#x27;Ex&#x27;, nan],\n",
              "                           [&#x27;Po&#x27;, &#x27;Fa&#x27;, &#x27;TA&#x27;, &#x27;Gd&#x27;, &#x27;Ex&#x27;, nan],\n",
              "                           [&#x27;Po&#x27;, &#x27;Fa&#x27;, &#x27;TA&#x27;, &#x27;Gd&#x27;, &#x27;Ex&#x27;, nan],\n",
              "                           [&#x27;No&#x27;, &#x27;Mn&#x27;, &#x27;Av&#x27;, &#x27;Gd&#x27;, nan],\n",
              "                           [&#x27;Unf&#x27;, &#x27;LwQ&#x27;, &#x27;Rec&#x27;, &#x27;BLQ&#x27;, &#x27;ALQ&#x27;, &#x27;GLQ&#x27;, nan],\n",
              "                           [&#x27;Po&#x27;, &#x27;Fa&#x27;, &#x27;TA&#x27;, &#x27;Gd&#x27;, &#x27;Ex&#x27;, nan],\n",
              "                           [&#x27;Po&#x27;, &#x27;Fa&#x27;, &#x27;TA&#x27;, &#x27;Gd&#x27;, &#x27;Ex&#x27;, nan]],\n",
              "               encoded_missing_value=-1)</pre></div></div></div></div></div></div></div></div></div></div><div class=\"sk-item\"><div class=\"sk-estimator sk-toggleable\"><input class=\"sk-toggleable__control sk-hidden--visually\" id=\"sk-estimator-id-19\" type=\"checkbox\" ><label for=\"sk-estimator-id-19\" class=\"sk-toggleable__label sk-toggleable__label-arrow\">StandardScaler</label><div class=\"sk-toggleable__content\"><pre>StandardScaler()</pre></div></div></div><div class=\"sk-item\"><div class=\"sk-estimator sk-toggleable\"><input class=\"sk-toggleable__control sk-hidden--visually\" id=\"sk-estimator-id-20\" type=\"checkbox\" ><label for=\"sk-estimator-id-20\" class=\"sk-toggleable__label sk-toggleable__label-arrow\">DecisionTreeClassifier</label><div class=\"sk-toggleable__content\"><pre>DecisionTreeClassifier()</pre></div></div></div></div></div></div></div>"
            ]
          },
          "metadata": {},
          "execution_count": 39
        }
      ]
    },
    {
      "cell_type": "code",
      "source": [
        "params = {\n",
        "    \"columntransformer__num_branch__simpleimputer__strategy\": [\"mean\", \"median\"],\n",
        "    \"standardscaler__with_mean\":[True, False],\n",
        "    \"standardscaler__with_std\":[True, False],\n",
        "    'decisiontreeclassifier__max_depth': range(4, 8),\n",
        "    'decisiontreeclassifier__min_samples_leaf': range(1, 4, 1),\n",
        "    'decisiontreeclassifier__min_samples_split': range(8, 16, 2),\n",
        "    'decisiontreeclassifier__criterion':['gini', 'entropy']\n",
        "}"
      ],
      "metadata": {
        "id": "qmoVoORn0Zee"
      },
      "execution_count": 41,
      "outputs": []
    },
    {
      "cell_type": "code",
      "source": [
        "search = GridSearchCV(pipeDT, params, cv=5, scoring='accuracy', verbose=1)"
      ],
      "metadata": {
        "id": "IOibgPiI1LJ_"
      },
      "execution_count": 42,
      "outputs": []
    },
    {
      "cell_type": "code",
      "source": [
        "search.fit(X_train, y_train);"
      ],
      "metadata": {
        "colab": {
          "base_uri": "https://localhost:8080/"
        },
        "id": "1w4kLgQG1tQ_",
        "outputId": "d21a1b44-d12d-4519-bd42-716e251cb251"
      },
      "execution_count": 43,
      "outputs": [
        {
          "output_type": "stream",
          "name": "stdout",
          "text": [
            "Fitting 5 folds for each of 768 candidates, totalling 3840 fits\n"
          ]
        }
      ]
    },
    {
      "cell_type": "code",
      "source": [
        "search.best_score_"
      ],
      "metadata": {
        "colab": {
          "base_uri": "https://localhost:8080/"
        },
        "id": "vAC93VG456ls",
        "outputId": "33ef5aa5-60b6-4f75-accb-c759b2152522"
      },
      "execution_count": 44,
      "outputs": [
        {
          "output_type": "execute_result",
          "data": {
            "text/plain": [
              "0.9118264186933714"
            ]
          },
          "metadata": {},
          "execution_count": 44
        }
      ]
    },
    {
      "cell_type": "code",
      "source": [
        "search.best_params_"
      ],
      "metadata": {
        "colab": {
          "base_uri": "https://localhost:8080/"
        },
        "id": "S_0J887c6ct2",
        "outputId": "8944dc09-1bf5-4b41-c3b4-9477ab1fd737"
      },
      "execution_count": 45,
      "outputs": [
        {
          "output_type": "execute_result",
          "data": {
            "text/plain": [
              "{'columntransformer__num_branch__simpleimputer__strategy': 'mean',\n",
              " 'decisiontreeclassifier__criterion': 'entropy',\n",
              " 'decisiontreeclassifier__max_depth': 6,\n",
              " 'decisiontreeclassifier__min_samples_leaf': 2,\n",
              " 'decisiontreeclassifier__min_samples_split': 8,\n",
              " 'standardscaler__with_mean': True,\n",
              " 'standardscaler__with_std': True}"
            ]
          },
          "metadata": {},
          "execution_count": 45
        }
      ]
    },
    {
      "cell_type": "code",
      "source": [
        "y_train_pred = search.predict(X_train)\n",
        "accuracy_score(y_train, y_train_pred)"
      ],
      "metadata": {
        "colab": {
          "base_uri": "https://localhost:8080/"
        },
        "id": "cRCF5Xdf6L4f",
        "outputId": "3662a684-fa8b-4b68-fe98-54d68f0ae39d"
      },
      "execution_count": 46,
      "outputs": [
        {
          "output_type": "execute_result",
          "data": {
            "text/plain": [
              "0.9503424657534246"
            ]
          },
          "metadata": {},
          "execution_count": 46
        }
      ]
    },
    {
      "cell_type": "code",
      "source": [
        "y_test_pred = search.predict(X_test)\n",
        "accuracy_score(y_test, y_test_pred)"
      ],
      "metadata": {
        "colab": {
          "base_uri": "https://localhost:8080/"
        },
        "id": "m7SgURz96Wdd",
        "outputId": "93a6f5a8-4bce-41eb-c9f9-bde9815eabb4"
      },
      "execution_count": 47,
      "outputs": [
        {
          "output_type": "execute_result",
          "data": {
            "text/plain": [
              "0.934931506849315"
            ]
          },
          "metadata": {},
          "execution_count": 47
        }
      ]
    }
  ]
}